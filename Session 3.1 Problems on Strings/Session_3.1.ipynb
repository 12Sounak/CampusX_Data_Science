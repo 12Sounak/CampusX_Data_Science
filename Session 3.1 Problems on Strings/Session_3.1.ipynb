{
 "cells": [
  {
   "cell_type": "code",
   "execution_count": 1,
   "metadata": {},
   "outputs": [],
   "source": [
    "#Example Programs"
   ]
  },
  {
   "cell_type": "code",
   "execution_count": 4,
   "metadata": {},
   "outputs": [
    {
     "name": "stdout",
     "output_type": "stream",
     "text": [
      "Length of the String is : 11\n"
     ]
    }
   ],
   "source": [
    "# 1. Find the Length of a given string without using len() function\n",
    "\n",
    "s = input('Enter the String')\n",
    "counter=0\n",
    "for i in s:\n",
    "    counter+=1\n",
    "print(\"Length of the String is :\",counter)"
   ]
  },
  {
   "cell_type": "code",
   "execution_count": 2,
   "metadata": {},
   "outputs": [
    {
     "name": "stdout",
     "output_type": "stream",
     "text": [
      "sounakbanerjee\n"
     ]
    }
   ],
   "source": [
    "#Extract user name from a Given String\n",
    "#eg: if email is nitish24singh@gmail.com then the user name should be nitish24singh\n",
    "\n",
    "s = input('Enter the email')\n",
    "\n",
    "pos = s.index('@')\n",
    "print(s[0:pos])"
   ]
  },
  {
   "cell_type": "code",
   "execution_count": 3,
   "metadata": {},
   "outputs": [
    {
     "name": "stdout",
     "output_type": "stream",
     "text": [
      "Frequency is  2\n"
     ]
    }
   ],
   "source": [
    "# qs3> Count the frequency of a particular character in a provided string.\n",
    "# eg: \"hello how are you\" is the string, the frequency of h is in this string is 2.\n",
    "\n",
    "s = input(\"Enter the Sentence :\")\n",
    "term = input('What would u like to search for :')\n",
    "\n",
    "counter = 0\n",
    "for i in s:\n",
    "    if i==term:\n",
    "        counter +=1\n",
    "\n",
    "print('Frequency is ',counter)"
   ]
  },
  {
   "cell_type": "code",
   "execution_count": 5,
   "metadata": {},
   "outputs": [
    {
     "name": "stdout",
     "output_type": "stream",
     "text": [
      "The new sentence is  tringounak\n"
     ]
    }
   ],
   "source": [
    "# qs4> write a program which can remove a perticular character from a string.\n",
    "#string is immutable, that means can't be changed\n",
    "s = input(\"Enter the Sentence :\")\n",
    "term = input('What would u like to remove :')\n",
    "\n",
    "result = ''\n",
    "\n",
    "for i in s:\n",
    "    if i!=term:\n",
    "        result = result + i\n",
    "\n",
    "print('The new sentence is ',result)"
   ]
  },
  {
   "cell_type": "code",
   "execution_count": 7,
   "metadata": {},
   "outputs": [
    {
     "name": "stdout",
     "output_type": "stream",
     "text": [
      "Pallindrome\n"
     ]
    }
   ],
   "source": [
    "# qs 5>Write a program that can chaeck wherther a given string is palindrome or \n",
    "# eg: abba,malayalam\n",
    "s = input(\"Enter the String :\")\n",
    "flag = True\n",
    "for i in range(0,len(s)//2):\n",
    "    if s[i] != s[len(s) - i -1]:\n",
    "        flag = False\n",
    "        print('Not a Pallindrome')\n",
    "        break\n",
    "if flag:\n",
    "    print('Pallindrome')"
   ]
  },
  {
   "cell_type": "code",
   "execution_count": 1,
   "metadata": {},
   "outputs": [
    {
     "data": {
      "text/plain": [
       "['hi', 'how', 'are', 'you']"
      ]
     },
     "execution_count": 1,
     "metadata": {},
     "output_type": "execute_result"
    }
   ],
   "source": [
    "# qs6> Write a program to count the number of words in a string without split()\n",
    "\"hi how are you\".split()\n",
    "# have to do this without using the split function"
   ]
  },
  {
   "cell_type": "code",
   "execution_count": 4,
   "metadata": {},
   "outputs": [
    {
     "name": "stdout",
     "output_type": "stream",
     "text": [
      "['hi', 'how', 'are', 'you']\n"
     ]
    }
   ],
   "source": [
    "s = input(\"Enter the String :\")\n",
    "L = []\n",
    "temp = ''\n",
    "for i in s:\n",
    "    if i !=' ':\n",
    "        temp = temp + i\n",
    "    else:\n",
    "        L.append(temp)\n",
    "        temp = ''\n",
    "L.append(temp)\n",
    "print(L)"
   ]
  },
  {
   "cell_type": "code",
   "execution_count": 1,
   "metadata": {},
   "outputs": [
    {
     "data": {
      "text/plain": [
       "'Hi How Are You'"
      ]
     },
     "execution_count": 1,
     "metadata": {},
     "output_type": "execute_result"
    }
   ],
   "source": [
    "# qs7> Write a python program to convert a string to title case without using the title()\n",
    "'hi how are you'.title()    #this will capitalize the 1st letter of each word in the sentence\n"
   ]
  },
  {
   "cell_type": "code",
   "execution_count": 4,
   "metadata": {},
   "outputs": [
    {
     "name": "stdout",
     "output_type": "stream",
     "text": [
      "['Hi', 'How', 'Are', 'You']\n"
     ]
    }
   ],
   "source": [
    "s = input(\"Enter the String :\")\n",
    "\n",
    "L = []\n",
    "for i in s.split():\n",
    "    L.append(i[0].upper() + i[1:].lower())\n",
    "\n",
    "print(L)\n"
   ]
  },
  {
   "cell_type": "code",
   "execution_count": 5,
   "metadata": {},
   "outputs": [
    {
     "data": {
      "text/plain": [
       "'445'"
      ]
     },
     "execution_count": 5,
     "metadata": {},
     "output_type": "execute_result"
    }
   ],
   "source": [
    "#Write a progrram that can convert an integer to string\n",
    "str(445)"
   ]
  },
  {
   "cell_type": "code",
   "execution_count": 8,
   "metadata": {},
   "outputs": [
    {
     "name": "stdout",
     "output_type": "stream",
     "text": [
      "432\n"
     ]
    }
   ],
   "source": [
    "number = int(input(\"Enter a number :\"))\n",
    "\n",
    "digits = '0123456789'\n",
    "result = ''\n",
    "while number !=0:\n",
    "    result = digits[number % 10] + result\n",
    "    number = number//10\n",
    "\n",
    "print(result)\n",
    "print(type(result))\n"
   ]
  },
  {
   "cell_type": "code",
   "execution_count": null,
   "metadata": {},
   "outputs": [],
   "source": []
  }
 ],
 "metadata": {
  "kernelspec": {
   "display_name": "Python 3",
   "language": "python",
   "name": "python3"
  },
  "language_info": {
   "codemirror_mode": {
    "name": "ipython",
    "version": 3
   },
   "file_extension": ".py",
   "mimetype": "text/x-python",
   "name": "python",
   "nbconvert_exporter": "python",
   "pygments_lexer": "ipython3",
   "version": "3.12.0"
  }
 },
 "nbformat": 4,
 "nbformat_minor": 2
}
