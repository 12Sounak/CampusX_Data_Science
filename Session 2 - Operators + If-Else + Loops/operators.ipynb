{
 "cells": [
  {
   "cell_type": "markdown",
   "metadata": {},
   "source": [
    "# Operators in Python\n",
    "    1. Arithmetic Operator\n",
    "    2. Relational Operator\n",
    "    3. Logical Operator\n",
    "    4. Bitwise Operator\n",
    "    5. Assignment Operator\n",
    "    6. Membership Operator"
   ]
  },
  {
   "cell_type": "code",
   "execution_count": 4,
   "metadata": {},
   "outputs": [
    {
     "name": "stdout",
     "output_type": "stream",
     "text": [
      "11\n",
      "-1\n",
      "30\n",
      "2.5\n",
      "2\n",
      "1\n",
      "25\n"
     ]
    }
   ],
   "source": [
    "# Arithematic Operator\n",
    "\n",
    "print(5+6)\n",
    "\n",
    "print(5-6)\n",
    "\n",
    "print(5*6)\n",
    "\n",
    "print(5/2)\n",
    "\n",
    "print(5//2)\n",
    "\n",
    "print(5%2)\n",
    "\n",
    "print(5**2)        #this is 5^2"
   ]
  },
  {
   "cell_type": "code",
   "execution_count": 5,
   "metadata": {},
   "outputs": [
    {
     "name": "stdout",
     "output_type": "stream",
     "text": [
      "False\n",
      "True\n",
      "True\n",
      "True\n",
      "False\n"
     ]
    }
   ],
   "source": [
    "# Relational Operator\n",
    "print(4>5)\n",
    "\n",
    "print(4<5)\n",
    "\n",
    "print(4>=4)\n",
    "\n",
    "print(4==4)\n",
    "\n",
    "print(4!=4)"
   ]
  },
  {
   "cell_type": "code",
   "execution_count": 7,
   "metadata": {},
   "outputs": [
    {
     "name": "stdout",
     "output_type": "stream",
     "text": [
      "0\n",
      "1\n",
      "False\n"
     ]
    }
   ],
   "source": [
    "# Logical Operator\n",
    "\n",
    "print(1 and 0)\n",
    "\n",
    "print(1 or 0)\n",
    "\n",
    "print(not 1)"
   ]
  },
  {
   "cell_type": "code",
   "execution_count": 12,
   "metadata": {},
   "outputs": [
    {
     "name": "stdout",
     "output_type": "stream",
     "text": [
      "2\n",
      "3\n",
      "1\n",
      "-4\n",
      "1\n",
      "20\n"
     ]
    }
   ],
   "source": [
    "#bitwise Operators\n",
    "\n",
    "# bitewise and operator \n",
    "print(2 & 3)\n",
    "\n",
    "# bitwise or operator \n",
    "print(2 | 3)\n",
    "\n",
    "#bitwise xor\n",
    "print(2 ^ 3)\n",
    "\n",
    "print(~3)\n",
    "\n",
    "#bitwise left\n",
    "print( 4 >> 2)\n",
    "\n",
    "#bitwise right\n",
    "print(5 << 2)"
   ]
  },
  {
   "cell_type": "code",
   "execution_count": 13,
   "metadata": {},
   "outputs": [
    {
     "name": "stdout",
     "output_type": "stream",
     "text": [
      "4\n"
     ]
    }
   ],
   "source": [
    "# Assignment Operator\n",
    "\n",
    "# = \n",
    "# a = 2\n",
    "\n",
    "a = 2\n",
    "a += 2\n",
    "print(a)"
   ]
  },
  {
   "cell_type": "code",
   "execution_count": 14,
   "metadata": {},
   "outputs": [
    {
     "name": "stdout",
     "output_type": "stream",
     "text": [
      "True\n"
     ]
    }
   ],
   "source": [
    "#MemberShip Operator\n",
    "\n",
    "# in, not in \n",
    "\n",
    "print('D' in 'Delhi')"
   ]
  },
  {
   "cell_type": "code",
   "execution_count": 19,
   "metadata": {},
   "outputs": [
    {
     "name": "stdout",
     "output_type": "stream",
     "text": [
      "342\n",
      "The sum is : 9\n"
     ]
    },
    {
     "data": {
      "text/plain": [
       "'\\nsum = 0\\nwhile(number>0):\\n    last_digit = number %10\\n    sum = sum + last_digit\\n    number = number//10\\nprint(sum)\\n'"
      ]
     },
     "execution_count": 19,
     "metadata": {},
     "output_type": "execute_result"
    }
   ],
   "source": [
    "# program - Find the Sum of a 3 digit number entered by the user.\n",
    "\n",
    "number = int(input('Enter a 3 digit number'))\n",
    "print(number)\n",
    "\n",
    "#way 1:\n",
    "#343%10 -> 5\n",
    "a = number % 10\n",
    "number = number//10\n",
    "\n",
    "#34 % 10 -> 4\n",
    "b = number % 10\n",
    "number = number//10\n",
    "\n",
    "#3 % 10 -> 3\n",
    "c = number % 10\n",
    "\n",
    "\n",
    "print(\"The sum is :\",a+b+c)\n",
    "\n",
    "#way 2:\n",
    "\"\"\"\n",
    "sum = 0\n",
    "while(number>0):\n",
    "    last_digit = number %10\n",
    "    sum = sum + last_digit\n",
    "    number = number//10\n",
    "print(sum)\n",
    "\"\"\""
   ]
  },
  {
   "cell_type": "markdown",
   "metadata": {},
   "source": [
    "# if-else in Python"
   ]
  },
  {
   "cell_type": "code",
   "execution_count": 23,
   "metadata": {},
   "outputs": [
    {
     "name": "stdout",
     "output_type": "stream",
     "text": [
      "Password Incorrect\n",
      "Welcome, finally!\n"
     ]
    }
   ],
   "source": [
    "# login program and indentation \n",
    "\n",
    "# email -> nitish.campusx@gmail.com\n",
    "# password -> 1234\n",
    "\n",
    "\n",
    "email = input('Enter Email')\n",
    "password = input('enter password')\n",
    "\n",
    "# c/c++/java\n",
    "\"\"\"\n",
    "if(condition)\n",
    "{\n",
    "    code\n",
    "}\n",
    "else{\n",
    "    code\n",
    "}\n",
    "\"\"\"\n",
    "\n",
    "#in python\n",
    "\"\"\" \n",
    "if(condition):\n",
    "    #code\n",
    "else:\n",
    "    #code\n",
    "\"\"\"\n",
    "\n",
    "if email == 'nitish.campusx@gmail.com' and password == '1234':\n",
    "    print('Welcome')\n",
    "elif email == 'nitish.campusx@gmail.com' and password != '1234':\n",
    "    print('Password Incorrect')\n",
    "    password = input('Enter password again')\n",
    "    if password == '1234':\n",
    "        print('Welcome, finally!')\n",
    "else:\n",
    "    print('Not correct')\n",
    "\n"
   ]
  },
  {
   "cell_type": "code",
   "execution_count": 24,
   "metadata": {},
   "outputs": [],
   "source": [
    "#if-else examples\n",
    "# 1. Find the min of 3 given numbers \n",
    "# 2. MEnu driven program \n",
    "\n"
   ]
  },
  {
   "cell_type": "code",
   "execution_count": 25,
   "metadata": {},
   "outputs": [
    {
     "name": "stdout",
     "output_type": "stream",
     "text": [
      "2\n"
     ]
    }
   ],
   "source": [
    "# min of 3 numbers\n",
    "\n",
    "a = int(input('Enter 1st number'))\n",
    "b = int(input('Enter 2nd number'))\n",
    "c = int(input('Enter 3nd number'))\n",
    "\n",
    "if(a<b and a<c):\n",
    "    print(a)\n",
    "elif(b<a and b<c):\n",
    "    print(b)\n",
    "else:\n",
    "    print(c)"
   ]
  },
  {
   "cell_type": "code",
   "execution_count": 26,
   "metadata": {},
   "outputs": [
    {
     "name": "stdout",
     "output_type": "stream",
     "text": [
      "51\n"
     ]
    }
   ],
   "source": [
    "#menu driven calculator:\n",
    "\n",
    "fnum = int(input(\"Enter the 1st number :\"))\n",
    "snum = int(input(\"Enter the 2nd number :\"))\n",
    "\n",
    "op = input('Enter the Operation :')\n",
    "\n",
    "if op == '+':\n",
    "    print(fnum + snum)\n",
    "elif op == '-':\n",
    "    print(fnum - snum)\n",
    "elif op == '/':\n",
    "    print(fnum/snum)\n",
    "else:\n",
    "    print(fnum%snum)"
   ]
  },
  {
   "cell_type": "code",
   "execution_count": 28,
   "metadata": {},
   "outputs": [
    {
     "name": "stdout",
     "output_type": "stream",
     "text": [
      "Balance check\n"
     ]
    }
   ],
   "source": [
    "menu = input(\"\"\" \n",
    "Hi!, how can i help u,\n",
    "1. Enter 1 for pin change\n",
    "2. Enter 2 for balance check\n",
    "3. Enter 3 for withdrawl\n",
    "4. Enter 4 for Exit\"\"\")\n",
    "\n",
    "if menu == '1':\n",
    "    print(\"change Pin\")\n",
    "elif menu == '2':\n",
    "    print(\"Balance check\")\n",
    "elif menu == '3':\n",
    "    print(\"withdrwal\")\n",
    "else:\n",
    "    print(\"exit\")"
   ]
  },
  {
   "cell_type": "markdown",
   "metadata": {},
   "source": [
    "# modules in python\n",
    "1. Math\n",
    "2. Keywords\n",
    "3. random\n",
    "4. datatime"
   ]
  },
  {
   "cell_type": "code",
   "execution_count": 1,
   "metadata": {},
   "outputs": [
    {
     "data": {
      "text/plain": [
       "120"
      ]
     },
     "execution_count": 1,
     "metadata": {},
     "output_type": "execute_result"
    }
   ],
   "source": [
    "#math\n",
    "\n",
    "import math\n",
    "math.factorial(5)"
   ]
  },
  {
   "cell_type": "code",
   "execution_count": 2,
   "metadata": {},
   "outputs": [
    {
     "name": "stdout",
     "output_type": "stream",
     "text": [
      "['False', 'None', 'True', 'and', 'as', 'assert', 'async', 'await', 'break', 'class', 'continue', 'def', 'del', 'elif', 'else', 'except', 'finally', 'for', 'from', 'global', 'if', 'import', 'in', 'is', 'lambda', 'nonlocal', 'not', 'or', 'pass', 'raise', 'return', 'try', 'while', 'with', 'yield']\n"
     ]
    }
   ],
   "source": [
    "#keyword\n",
    "\n",
    "import keyword\n",
    "\n",
    "print(keyword.kwlist)"
   ]
  },
  {
   "cell_type": "code",
   "execution_count": 3,
   "metadata": {},
   "outputs": [
    {
     "name": "stdout",
     "output_type": "stream",
     "text": [
      "24\n"
     ]
    }
   ],
   "source": [
    "#random\n",
    "\n",
    "import random\n",
    "\n",
    "print(random.randint(1,100))"
   ]
  },
  {
   "cell_type": "code",
   "execution_count": 4,
   "metadata": {},
   "outputs": [
    {
     "name": "stdout",
     "output_type": "stream",
     "text": [
      "2024-04-09 23:04:37.606963\n"
     ]
    }
   ],
   "source": [
    "#datetime\n",
    "\n",
    "import datetime\n",
    "print(datetime.datetime.now())"
   ]
  },
  {
   "cell_type": "code",
   "execution_count": null,
   "metadata": {},
   "outputs": [],
   "source": [
    "#how to know all the modules of python\n",
    "\n",
    "help('modules')"
   ]
  }
 ],
 "metadata": {
  "kernelspec": {
   "display_name": "Python 3",
   "language": "python",
   "name": "python3"
  },
  "language_info": {
   "codemirror_mode": {
    "name": "ipython",
    "version": 3
   },
   "file_extension": ".py",
   "mimetype": "text/x-python",
   "name": "python",
   "nbconvert_exporter": "python",
   "pygments_lexer": "ipython3",
   "version": "3.12.0"
  }
 },
 "nbformat": 4,
 "nbformat_minor": 2
}
