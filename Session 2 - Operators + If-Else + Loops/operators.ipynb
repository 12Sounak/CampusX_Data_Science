{
 "cells": [
  {
   "cell_type": "markdown",
   "metadata": {},
   "source": [
    "# Operators in Python\n",
    "    1. Arithmetic Operator\n",
    "    2. Relational Operator\n",
    "    3. Logical Operator\n",
    "    4. Bitwise Operator\n",
    "    5. Assignment Operator\n",
    "    6. Membership Operator"
   ]
  },
  {
   "cell_type": "code",
   "execution_count": 4,
   "metadata": {},
   "outputs": [
    {
     "name": "stdout",
     "output_type": "stream",
     "text": [
      "11\n",
      "-1\n",
      "30\n",
      "2.5\n",
      "2\n",
      "1\n",
      "25\n"
     ]
    }
   ],
   "source": [
    "# Arithematic Operator\n",
    "\n",
    "print(5+6)\n",
    "\n",
    "print(5-6)\n",
    "\n",
    "print(5*6)\n",
    "\n",
    "print(5/2)\n",
    "\n",
    "print(5//2)\n",
    "\n",
    "print(5%2)\n",
    "\n",
    "print(5**2)        #this is 5^2"
   ]
  },
  {
   "cell_type": "code",
   "execution_count": 5,
   "metadata": {},
   "outputs": [
    {
     "name": "stdout",
     "output_type": "stream",
     "text": [
      "False\n",
      "True\n",
      "True\n",
      "True\n",
      "False\n"
     ]
    }
   ],
   "source": [
    "# Relational Operator\n",
    "print(4>5)\n",
    "\n",
    "print(4<5)\n",
    "\n",
    "print(4>=4)\n",
    "\n",
    "print(4==4)\n",
    "\n",
    "print(4!=4)"
   ]
  },
  {
   "cell_type": "code",
   "execution_count": 7,
   "metadata": {},
   "outputs": [
    {
     "name": "stdout",
     "output_type": "stream",
     "text": [
      "0\n",
      "1\n",
      "False\n"
     ]
    }
   ],
   "source": [
    "# Logical Operator\n",
    "\n",
    "print(1 and 0)\n",
    "\n",
    "print(1 or 0)\n",
    "\n",
    "print(not 1)"
   ]
  },
  {
   "cell_type": "code",
   "execution_count": 12,
   "metadata": {},
   "outputs": [
    {
     "name": "stdout",
     "output_type": "stream",
     "text": [
      "2\n",
      "3\n",
      "1\n",
      "-4\n",
      "1\n",
      "20\n"
     ]
    }
   ],
   "source": [
    "#bitwise Operators\n",
    "\n",
    "# bitewise and operator \n",
    "print(2 & 3)\n",
    "\n",
    "# bitwise or operator \n",
    "print(2 | 3)\n",
    "\n",
    "#bitwise xor\n",
    "print(2 ^ 3)\n",
    "\n",
    "print(~3)\n",
    "\n",
    "#bitwise left\n",
    "print( 4 >> 2)\n",
    "\n",
    "#bitwise right\n",
    "print(5 << 2)"
   ]
  },
  {
   "cell_type": "code",
   "execution_count": 13,
   "metadata": {},
   "outputs": [
    {
     "name": "stdout",
     "output_type": "stream",
     "text": [
      "4\n"
     ]
    }
   ],
   "source": [
    "# Assignment Operator\n",
    "\n",
    "# = \n",
    "# a = 2\n",
    "\n",
    "a = 2\n",
    "a += 2\n",
    "print(a)"
   ]
  },
  {
   "cell_type": "code",
   "execution_count": 14,
   "metadata": {},
   "outputs": [
    {
     "name": "stdout",
     "output_type": "stream",
     "text": [
      "True\n"
     ]
    }
   ],
   "source": [
    "#MemberShip Operator\n",
    "\n",
    "# in, not in \n",
    "\n",
    "print('D' in 'Delhi')"
   ]
  },
  {
   "cell_type": "code",
   "execution_count": 19,
   "metadata": {},
   "outputs": [
    {
     "name": "stdout",
     "output_type": "stream",
     "text": [
      "342\n",
      "The sum is : 9\n"
     ]
    },
    {
     "data": {
      "text/plain": [
       "'\\nsum = 0\\nwhile(number>0):\\n    last_digit = number %10\\n    sum = sum + last_digit\\n    number = number//10\\nprint(sum)\\n'"
      ]
     },
     "execution_count": 19,
     "metadata": {},
     "output_type": "execute_result"
    }
   ],
   "source": [
    "# program - Find the Sum of a 3 digit number entered by the user.\n",
    "\n",
    "number = int(input('Enter a 3 digit number'))\n",
    "print(number)\n",
    "\n",
    "#way 1:\n",
    "#343%10 -> 5\n",
    "a = number % 10\n",
    "number = number//10\n",
    "\n",
    "#34 % 10 -> 4\n",
    "b = number % 10\n",
    "number = number//10\n",
    "\n",
    "#3 % 10 -> 3\n",
    "c = number % 10\n",
    "\n",
    "\n",
    "print(\"The sum is :\",a+b+c)\n",
    "\n",
    "#way 2:\n",
    "\"\"\"\n",
    "sum = 0\n",
    "while(number>0):\n",
    "    last_digit = number %10\n",
    "    sum = sum + last_digit\n",
    "    number = number//10\n",
    "print(sum)\n",
    "\"\"\""
   ]
  },
  {
   "cell_type": "markdown",
   "metadata": {},
   "source": [
    "# if-else in Python"
   ]
  },
  {
   "cell_type": "code",
   "execution_count": 23,
   "metadata": {},
   "outputs": [
    {
     "name": "stdout",
     "output_type": "stream",
     "text": [
      "Password Incorrect\n",
      "Welcome, finally!\n"
     ]
    }
   ],
   "source": [
    "# login program and indentation \n",
    "\n",
    "# email -> nitish.campusx@gmail.com\n",
    "# password -> 1234\n",
    "\n",
    "\n",
    "email = input('Enter Email')\n",
    "password = input('enter password')\n",
    "\n",
    "# c/c++/java\n",
    "\"\"\"\n",
    "if(condition)\n",
    "{\n",
    "    code\n",
    "}\n",
    "else{\n",
    "    code\n",
    "}\n",
    "\"\"\"\n",
    "\n",
    "#in python\n",
    "\"\"\" \n",
    "if(condition):\n",
    "    #code\n",
    "else:\n",
    "    #code\n",
    "\"\"\"\n",
    "\n",
    "if email == 'nitish.campusx@gmail.com' and password == '1234':\n",
    "    print('Welcome')\n",
    "elif email == 'nitish.campusx@gmail.com' and password != '1234':\n",
    "    print('Password Incorrect')\n",
    "    password = input('Enter password again')\n",
    "    if password == '1234':\n",
    "        print('Welcome, finally!')\n",
    "else:\n",
    "    print('Not correct')\n",
    "\n"
   ]
  },
  {
   "cell_type": "code",
   "execution_count": 24,
   "metadata": {},
   "outputs": [],
   "source": [
    "#if-else examples\n",
    "# 1. Find the min of 3 given numbers \n",
    "# 2. MEnu driven program \n",
    "\n"
   ]
  },
  {
   "cell_type": "code",
   "execution_count": 25,
   "metadata": {},
   "outputs": [
    {
     "name": "stdout",
     "output_type": "stream",
     "text": [
      "2\n"
     ]
    }
   ],
   "source": [
    "# min of 3 numbers\n",
    "\n",
    "a = int(input('Enter 1st number'))\n",
    "b = int(input('Enter 2nd number'))\n",
    "c = int(input('Enter 3nd number'))\n",
    "\n",
    "if(a<b and a<c):\n",
    "    print(a)\n",
    "elif(b<a and b<c):\n",
    "    print(b)\n",
    "else:\n",
    "    print(c)"
   ]
  },
  {
   "cell_type": "code",
   "execution_count": 26,
   "metadata": {},
   "outputs": [
    {
     "name": "stdout",
     "output_type": "stream",
     "text": [
      "51\n"
     ]
    }
   ],
   "source": [
    "#menu driven calculator:\n",
    "\n",
    "fnum = int(input(\"Enter the 1st number :\"))\n",
    "snum = int(input(\"Enter the 2nd number :\"))\n",
    "\n",
    "op = input('Enter the Operation :')\n",
    "\n",
    "if op == '+':\n",
    "    print(fnum + snum)\n",
    "elif op == '-':\n",
    "    print(fnum - snum)\n",
    "elif op == '/':\n",
    "    print(fnum/snum)\n",
    "else:\n",
    "    print(fnum%snum)"
   ]
  },
  {
   "cell_type": "code",
   "execution_count": 28,
   "metadata": {},
   "outputs": [
    {
     "name": "stdout",
     "output_type": "stream",
     "text": [
      "Balance check\n"
     ]
    }
   ],
   "source": [
    "menu = input(\"\"\" \n",
    "Hi!, how can i help u,\n",
    "1. Enter 1 for pin change\n",
    "2. Enter 2 for balance check\n",
    "3. Enter 3 for withdrawl\n",
    "4. Enter 4 for Exit\"\"\")\n",
    "\n",
    "if menu == '1':\n",
    "    print(\"change Pin\")\n",
    "elif menu == '2':\n",
    "    print(\"Balance check\")\n",
    "elif menu == '3':\n",
    "    print(\"withdrwal\")\n",
    "else:\n",
    "    print(\"exit\")"
   ]
  },
  {
   "cell_type": "markdown",
   "metadata": {},
   "source": [
    "# modules in python\n",
    "1. Math\n",
    "2. Keywords\n",
    "3. random\n",
    "4. datatime"
   ]
  },
  {
   "cell_type": "code",
   "execution_count": 1,
   "metadata": {},
   "outputs": [
    {
     "data": {
      "text/plain": [
       "120"
      ]
     },
     "execution_count": 1,
     "metadata": {},
     "output_type": "execute_result"
    }
   ],
   "source": [
    "#math\n",
    "\n",
    "import math\n",
    "math.factorial(5)"
   ]
  },
  {
   "cell_type": "code",
   "execution_count": 2,
   "metadata": {},
   "outputs": [
    {
     "name": "stdout",
     "output_type": "stream",
     "text": [
      "['False', 'None', 'True', 'and', 'as', 'assert', 'async', 'await', 'break', 'class', 'continue', 'def', 'del', 'elif', 'else', 'except', 'finally', 'for', 'from', 'global', 'if', 'import', 'in', 'is', 'lambda', 'nonlocal', 'not', 'or', 'pass', 'raise', 'return', 'try', 'while', 'with', 'yield']\n"
     ]
    }
   ],
   "source": [
    "#keyword\n",
    "\n",
    "import keyword\n",
    "\n",
    "print(keyword.kwlist)"
   ]
  },
  {
   "cell_type": "code",
   "execution_count": 3,
   "metadata": {},
   "outputs": [
    {
     "name": "stdout",
     "output_type": "stream",
     "text": [
      "24\n"
     ]
    }
   ],
   "source": [
    "#random\n",
    "\n",
    "import random\n",
    "\n",
    "print(random.randint(1,100))"
   ]
  },
  {
   "cell_type": "code",
   "execution_count": 4,
   "metadata": {},
   "outputs": [
    {
     "name": "stdout",
     "output_type": "stream",
     "text": [
      "2024-04-09 23:04:37.606963\n"
     ]
    }
   ],
   "source": [
    "#datetime\n",
    "\n",
    "import datetime\n",
    "print(datetime.datetime.now())"
   ]
  },
  {
   "cell_type": "code",
   "execution_count": 5,
   "metadata": {},
   "outputs": [
    {
     "name": "stdout",
     "output_type": "stream",
     "text": [
      "\n",
      "Please wait a moment while I gather a list of all available modules...\n",
      "\n",
      "test_sqlite3: testing with SQLite version 3.42.0\n"
     ]
    },
    {
     "name": "stderr",
     "output_type": "stream",
     "text": [
      "c:\\Users\\Ghost\\AppData\\Local\\Programs\\Python\\Python312\\Lib\\site-packages\\nltk\\twitter\\__init__.py:20: UserWarning: The twython library has not been installed. Some functionality from the twitter package will not be available.\n",
      "  warnings.warn(\n",
      "c:\\Users\\Ghost\\AppData\\Local\\Programs\\Python\\Python312\\Lib\\pkgutil.py:78: UserWarning: The numpy.array_api submodule is still experimental. See NEP 47.\n",
      "  __import__(info.name)\n"
     ]
    },
    {
     "name": "stdout",
     "output_type": "stream",
     "text": [
      "IPython             blinker             mmapfile            symtable\n",
      "PIL                 builtins            mmsystem            sys\n",
      "__future__          bz2                 modulefinder        sysconfig\n",
      "__hello__           cProfile            mpl_toolkits        tabnanny\n",
      "__phello__          cachetools          msilib              tarfile\n",
      "_abc                calendar            msvcrt              telnetlib\n",
      "_aix_support        certifi             multiprocessing     tempfile\n",
      "_ast                cgi                 nest_asyncio        tenacity\n",
      "_asyncio            cgitb               netbios             test\n",
      "_bisect             charset_normalizer  netrc               textwrap\n",
      "_blake2             chunk               nltk                this\n",
      "_bz2                click               nntplib             threading\n",
      "_codecs             cmath               nt                  threadpoolctl\n",
      "_codecs_cn          cmd                 ntpath              time\n",
      "_codecs_hk          code                ntsecuritycon       timeit\n",
      "_codecs_iso2022     codecs              nturl2path          timer\n",
      "_codecs_jp          codeop              numbers             tkinter\n",
      "_codecs_kr          collections         numpy               tlz\n",
      "_codecs_tw          colorama            odbc                token\n",
      "_collections        colorsys            opcode              tokenize\n",
      "_collections_abc    comm                operator            toml\n",
      "_compat_pickle      commctrl            optparse            tomllib\n",
      "_compression        compileall          os                  toolz\n",
      "_contextvars        concurrent          packaging           tornado\n",
      "_csv                configparser        pandas              tqdm\n",
      "_ctypes             contextlib          parso               trace\n",
      "_ctypes_test        contextvars         pathlib             traceback\n",
      "_datetime           contourpy           patsy               tracemalloc\n",
      "_decimal            copy                pdb                 traitlets\n",
      "_elementtree        copyreg             perfmon             tty\n",
      "_functools          crypt               pickle              turtle\n",
      "_hashlib            csv                 pickleshare         turtledemo\n",
      "_heapq              ctypes              pickletools         types\n",
      "_imp                curses              pip                 typing\n",
      "_io                 cycler              pipes               typing_extensions\n",
      "_json               dataclasses         pkgutil             tzdata\n",
      "_locale             datetime            platform            tzlocal\n",
      "_lsprof             dateutil            platformdirs        unicodedata\n",
      "_lzma               dbi                 plistlib            unittest\n",
      "_markupbase         dbm                 poplib              urllib\n",
      "_md5                dde                 posixpath           urllib3\n",
      "_msi                debugpy             pprint              uu\n",
      "_multibytecodec     decimal             profile             uuid\n",
      "_multiprocessing    decorator           prompt_toolkit      validators\n",
      "_opcode             difflib             pstats              venv\n",
      "_operator           dis                 psutil              warnings\n",
      "_osx_support        doctest             pty                 watchdog\n",
      "_overlapped         email               pure_eval           wave\n",
      "_pickle             encodings           py_compile          wcwidth\n",
      "_py_abc             ensurepip           pyarrow             weakref\n",
      "_pydatetime         enum                pyclbr              webbrowser\n",
      "_pydecimal          errno               pydeck              win2kras\n",
      "_pyio               executing           pydoc               win32api\n",
      "_pylong             faulthandler        pydoc_data          win32clipboard\n",
      "_queue              filecmp             pyexpat             win32com\n",
      "_random             fileinput           pygments            win32con\n",
      "_sha1               fnmatch             pylab               win32console\n",
      "_sha2               fontTools           pyparsing           win32cred\n",
      "_sha3               fractions           pythoncom           win32crypt\n",
      "_signal             ftplib              pytz                win32cryptcon\n",
      "_sitebuiltins       functools           pywin               win32event\n",
      "_socket             gc                  pywin32_bootstrap   win32evtlog\n",
      "_sqlite3            genericpath         pywin32_testutil    win32evtlogutil\n",
      "_sre                getopt              pywintypes          win32file\n",
      "_ssl                getpass             queue               win32gui\n",
      "_stat               gettext             quopri              win32gui_struct\n",
      "_statistics         git                 random              win32help\n",
      "_string             gitdb               rasutil             win32inet\n",
      "_strptime           glob                re                  win32inetcon\n",
      "_struct             graphlib            referencing         win32job\n",
      "_symtable           gzip                regcheck            win32lz\n",
      "_testbuffer         hashlib             regex               win32net\n",
      "_testcapi           heapq               regutil             win32netcon\n",
      "_testclinic         hmac                reprlib             win32pdh\n",
      "_testconsole        html                requests            win32pdhquery\n",
      "_testimportmultiple http                rich                win32pdhutil\n",
      "_testinternalcapi   idlelib             rlcompleter         win32pipe\n",
      "_testmultiphase     idna                rpds                win32print\n",
      "_testsinglephase    imaplib             runpy               win32process\n",
      "_thread             imghdr              sched               win32profile\n",
      "_threading_local    importlib           scipy               win32ras\n",
      "_tkinter            importlib_metadata  seaborn             win32rcparser\n",
      "_tokenize           inspect             secrets             win32security\n",
      "_tracemalloc        io                  select              win32service\n",
      "_typing             ipaddress           selectors           win32serviceutil\n",
      "_uuid               ipykernel           servicemanager      win32timezone\n",
      "_warnings           ipykernel_launcher  shelve              win32trace\n",
      "_weakref            isapi               shlex               win32traceutil\n",
      "_weakrefset         itertools           shutil              win32transaction\n",
      "_win32sysloader     jedi                signal              win32ts\n",
      "_winapi             jinja2              site                win32ui\n",
      "_winxptheme         joblib              six                 win32uiole\n",
      "_wmi                json                sklearn             win32verstamp\n",
      "_xxinterpchannels   jsonschema          smmap               win32wnet\n",
      "_xxsubinterpreters  jsonschema_specifications smtplib             winerror\n",
      "_zoneinfo           jupyter             sndhdr              winioctlcon\n",
      "abc                 jupyter_client      socket              winnt\n",
      "adodbapi            jupyter_core        socketserver        winperf\n",
      "afxres              keyword             sqlite3             winreg\n",
      "aifc                kiwisolver          sre_compile         winsound\n",
      "altair              lib2to3             sre_constants       winxpgui\n",
      "antigravity         linecache           sre_parse           winxptheme\n",
      "argparse            locale              ssl                 wsgiref\n",
      "array               logging             sspi                xdrlib\n",
      "ast                 lzma                sspicon             xml\n",
      "asttokens           mailbox             stack_data          xmlrpc\n",
      "asyncio             mailcap             start_pythonwin     xxsubtype\n",
      "atexit              markdown_it         stat                zipapp\n",
      "attr                markupsafe          statistics          zipfile\n",
      "attrs               marshal             statsmodels         zipimport\n",
      "audioop             math                streamlit           zipp\n",
      "backcall            matplotlib          string              zlib\n",
      "base64              matplotlib_inline   stringprep          zmq\n",
      "bdb                 mdurl               struct              zoneinfo\n",
      "binascii            mimetypes           subprocess          \n",
      "bisect              mmap                sunau               \n",
      "\n",
      "Enter any module name to get more help.  Or, type \"modules spam\" to search\n",
      "for modules whose name or summary contain the string \"spam\".\n",
      "\n"
     ]
    },
    {
     "name": "stderr",
     "output_type": "stream",
     "text": [
      "c:\\Users\\Ghost\\AppData\\Local\\Programs\\Python\\Python312\\Lib\\site-packages\\tqdm\\auto.py:21: TqdmWarning: IProgress not found. Please update jupyter and ipywidgets. See https://ipywidgets.readthedocs.io/en/stable/user_install.html\n",
      "  from .autonotebook import tqdm as notebook_tqdm\n"
     ]
    }
   ],
   "source": [
    "#how to know all the modules of python\n",
    "\n",
    "help('modules')"
   ]
  },
  {
   "cell_type": "markdown",
   "metadata": {},
   "source": [
    "# Loops in Python\n",
    "1.  Need for loop\n",
    "2.  While Loop\n",
    "3.  For loop"
   ]
  },
  {
   "cell_type": "code",
   "execution_count": 1,
   "metadata": {},
   "outputs": [],
   "source": [
    "# 2 types of loops in python -> for loops and while loop\n",
    "# while loop example -> program to print the table\n",
    "# program -> Sum of all digits of a given number\n",
    "# program -> keep accepting numbers form user till he/she enters a 0 and then find the avg"
   ]
  },
  {
   "cell_type": "code",
   "execution_count": 4,
   "metadata": {},
   "outputs": [
    {
     "name": "stdout",
     "output_type": "stream",
     "text": [
      "4  *  1  =  4\n",
      "4  *  2  =  8\n",
      "4  *  3  =  12\n",
      "4  *  4  =  16\n",
      "4  *  5  =  20\n",
      "4  *  6  =  24\n",
      "4  *  7  =  28\n",
      "4  *  8  =  32\n",
      "4  *  9  =  36\n",
      "4  *  10  =  40\n"
     ]
    }
   ],
   "source": [
    "#table print\n",
    "number = int(input(\"Enter the number :\"))\n",
    "\n",
    "i=1\n",
    "while i<11:\n",
    "    print(number,' * ',i,' = ' , number * i)\n",
    "    i += 1"
   ]
  },
  {
   "cell_type": "code",
   "execution_count": null,
   "metadata": {},
   "outputs": [],
   "source": [
    "#while loop with else\n",
    "\n",
    "x = 1\n",
    "while x<3:\n",
    "    print(x)\n",
    "    x += 1\n",
    "\n",
    "else: \n",
    "    print('limit crossed')"
   ]
  }
 ],
 "metadata": {
  "kernelspec": {
   "display_name": "Python 3",
   "language": "python",
   "name": "python3"
  },
  "language_info": {
   "codemirror_mode": {
    "name": "ipython",
    "version": 3
   },
   "file_extension": ".py",
   "mimetype": "text/x-python",
   "name": "python",
   "nbconvert_exporter": "python",
   "pygments_lexer": "ipython3",
   "version": "3.12.0"
  }
 },
 "nbformat": 4,
 "nbformat_minor": 2
}
